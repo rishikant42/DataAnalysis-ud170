{
 "cells": [
  {
   "cell_type": "code",
   "execution_count": 4,
   "metadata": {
    "collapsed": false,
    "deletable": true,
    "editable": true
   },
   "outputs": [
    {
     "name": "stdout",
     "output_type": "stream",
     "text": [
      "136240\n",
      "1640\n",
      "3642\n"
     ]
    }
   ],
   "source": [
    "import unicodecsv\n",
    "\n",
    "def count_lines(filename):\n",
    "    inputFile = open(filename)\n",
    "    readFile = unicodecsv.reader(inputFile)\n",
    "    \n",
    "    # Skip Header\n",
    "    readFile.next()\n",
    "    \n",
    "    noOfLines = 0\n",
    "    \n",
    "    for x in readFile:\n",
    "        noOfLines += 1\n",
    "        \n",
    "    return noOfLines\n",
    "\n",
    "print count_lines(\"../data/daily_engagement.csv\")\n",
    "print count_lines(\"../data/enrollments.csv\")\n",
    "print count_lines(\"../data/project_submissions.csv\")"
   ]
  },
  {
   "cell_type": "code",
   "execution_count": null,
   "metadata": {
    "collapsed": true,
    "deletable": true,
    "editable": true
   },
   "outputs": [],
   "source": []
  }
 ],
 "metadata": {
  "kernelspec": {
   "display_name": "Python 2",
   "language": "python",
   "name": "python2"
  },
  "language_info": {
   "codemirror_mode": {
    "name": "ipython",
    "version": 2
   },
   "file_extension": ".py",
   "mimetype": "text/x-python",
   "name": "python",
   "nbconvert_exporter": "python",
   "pygments_lexer": "ipython2",
   "version": "2.7.13"
  }
 },
 "nbformat": 4,
 "nbformat_minor": 2
}
